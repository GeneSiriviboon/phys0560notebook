{
 "cells": [
  {
   "cell_type": "code",
   "execution_count": 1,
   "metadata": {},
   "outputs": [],
   "source": [
    "#importing the essential\n",
    "import numpy as np\n",
    "import matplotlib.pyplot as plt\n",
    "import pandas as pd\n",
    "import os\n",
    "from scipy import interpolate, signal, ndimage\n",
    "from scipy import stats\n",
    "from os import listdir\n",
    "from os.path import isfile, join\n",
    "from scipy.odr import Model, RealData, ODR\n",
    "data_path = './data/'\n",
    "fig_path = './fig/' "
   ]
  },
  {
   "cell_type": "code",
   "execution_count": 2,
   "metadata": {},
   "outputs": [
    {
     "data": {
      "text/plain": [
       "['boiling_water_reverse_0000microA.CSV',\n",
       " 'room_temp_reverse_0.000nA.CSV',\n",
       " 'room_temp_forward_0.0000microA.CSV',\n",
       " 'boiling_water_forward_00nA.CSV',\n",
       " 'liquidN2_FB.csv',\n",
       " 'room_temp_zener_forward_000nA_0.5Amplitude_0.25Offset.CSV',\n",
       " 'room_temp_zener_reverse_000nA_1.3Amplitude_-2Offset.CSV',\n",
       " 'ice_water_forward_0000microA.CSV',\n",
       " 'ice_water_reverse_0000nA.CSV',\n",
       " 'liquid_N_forward_0.0000mA_cut_out_flat_bit.CSV']"
      ]
     },
     "execution_count": 2,
     "metadata": {},
     "output_type": "execute_result"
    }
   ],
   "source": [
    "data_file = [f for f in listdir(data_path) if isfile(join(data_path, f)) and f!= '.DS_Store']\n",
    "data_file"
   ]
  },
  {
   "cell_type": "code",
   "execution_count": 3,
   "metadata": {},
   "outputs": [
    {
     "data": {
      "text/html": [
       "<div>\n",
       "<style scoped>\n",
       "    .dataframe tbody tr th:only-of-type {\n",
       "        vertical-align: middle;\n",
       "    }\n",
       "\n",
       "    .dataframe tbody tr th {\n",
       "        vertical-align: top;\n",
       "    }\n",
       "\n",
       "    .dataframe thead th {\n",
       "        text-align: right;\n",
       "    }\n",
       "</style>\n",
       "<table border=\"1\" class=\"dataframe\">\n",
       "  <thead>\n",
       "    <tr style=\"text-align: right;\">\n",
       "      <th></th>\n",
       "      <th>TIME</th>\n",
       "      <th>CH1</th>\n",
       "      <th>CH1 Peak Detect</th>\n",
       "      <th>NAME</th>\n",
       "    </tr>\n",
       "  </thead>\n",
       "  <tbody>\n",
       "    <tr>\n",
       "      <th>0</th>\n",
       "      <td>-20.000</td>\n",
       "      <td>0.752</td>\n",
       "      <td>0.728</td>\n",
       "      <td>liquid_N_forward_0.0000mA_cut_out_flat_bit.CSV</td>\n",
       "    </tr>\n",
       "    <tr>\n",
       "      <th>1</th>\n",
       "      <td>-19.992</td>\n",
       "      <td>0.752</td>\n",
       "      <td>0.784</td>\n",
       "      <td>liquid_N_forward_0.0000mA_cut_out_flat_bit.CSV</td>\n",
       "    </tr>\n",
       "    <tr>\n",
       "      <th>2</th>\n",
       "      <td>-19.985</td>\n",
       "      <td>0.752</td>\n",
       "      <td>0.728</td>\n",
       "      <td>liquid_N_forward_0.0000mA_cut_out_flat_bit.CSV</td>\n",
       "    </tr>\n",
       "    <tr>\n",
       "      <th>3</th>\n",
       "      <td>-19.977</td>\n",
       "      <td>0.752</td>\n",
       "      <td>0.784</td>\n",
       "      <td>liquid_N_forward_0.0000mA_cut_out_flat_bit.CSV</td>\n",
       "    </tr>\n",
       "    <tr>\n",
       "      <th>4</th>\n",
       "      <td>-19.969</td>\n",
       "      <td>0.752</td>\n",
       "      <td>0.728</td>\n",
       "      <td>liquid_N_forward_0.0000mA_cut_out_flat_bit.CSV</td>\n",
       "    </tr>\n",
       "    <tr>\n",
       "      <th>...</th>\n",
       "      <td>...</td>\n",
       "      <td>...</td>\n",
       "      <td>...</td>\n",
       "      <td>...</td>\n",
       "    </tr>\n",
       "    <tr>\n",
       "      <th>5195</th>\n",
       "      <td>19.900</td>\n",
       "      <td>0.920</td>\n",
       "      <td>0.952</td>\n",
       "      <td>liquid_N_forward_0.0000mA_cut_out_flat_bit.CSV</td>\n",
       "    </tr>\n",
       "    <tr>\n",
       "      <th>5196</th>\n",
       "      <td>19.908</td>\n",
       "      <td>0.920</td>\n",
       "      <td>0.888</td>\n",
       "      <td>liquid_N_forward_0.0000mA_cut_out_flat_bit.CSV</td>\n",
       "    </tr>\n",
       "    <tr>\n",
       "      <th>5197</th>\n",
       "      <td>19.916</td>\n",
       "      <td>0.920</td>\n",
       "      <td>0.952</td>\n",
       "      <td>liquid_N_forward_0.0000mA_cut_out_flat_bit.CSV</td>\n",
       "    </tr>\n",
       "    <tr>\n",
       "      <th>5198</th>\n",
       "      <td>19.923</td>\n",
       "      <td>0.920</td>\n",
       "      <td>0.896</td>\n",
       "      <td>liquid_N_forward_0.0000mA_cut_out_flat_bit.CSV</td>\n",
       "    </tr>\n",
       "    <tr>\n",
       "      <th>5199</th>\n",
       "      <td>19.931</td>\n",
       "      <td>0.920</td>\n",
       "      <td>0.952</td>\n",
       "      <td>liquid_N_forward_0.0000mA_cut_out_flat_bit.CSV</td>\n",
       "    </tr>\n",
       "  </tbody>\n",
       "</table>\n",
       "<p>5200 rows × 4 columns</p>\n",
       "</div>"
      ],
      "text/plain": [
       "        TIME    CH1  CH1 Peak Detect  \\\n",
       "0    -20.000  0.752            0.728   \n",
       "1    -19.992  0.752            0.784   \n",
       "2    -19.985  0.752            0.728   \n",
       "3    -19.977  0.752            0.784   \n",
       "4    -19.969  0.752            0.728   \n",
       "...      ...    ...              ...   \n",
       "5195  19.900  0.920            0.952   \n",
       "5196  19.908  0.920            0.888   \n",
       "5197  19.916  0.920            0.952   \n",
       "5198  19.923  0.920            0.896   \n",
       "5199  19.931  0.920            0.952   \n",
       "\n",
       "                                                NAME  \n",
       "0     liquid_N_forward_0.0000mA_cut_out_flat_bit.CSV  \n",
       "1     liquid_N_forward_0.0000mA_cut_out_flat_bit.CSV  \n",
       "2     liquid_N_forward_0.0000mA_cut_out_flat_bit.CSV  \n",
       "3     liquid_N_forward_0.0000mA_cut_out_flat_bit.CSV  \n",
       "4     liquid_N_forward_0.0000mA_cut_out_flat_bit.CSV  \n",
       "...                                              ...  \n",
       "5195  liquid_N_forward_0.0000mA_cut_out_flat_bit.CSV  \n",
       "5196  liquid_N_forward_0.0000mA_cut_out_flat_bit.CSV  \n",
       "5197  liquid_N_forward_0.0000mA_cut_out_flat_bit.CSV  \n",
       "5198  liquid_N_forward_0.0000mA_cut_out_flat_bit.CSV  \n",
       "5199  liquid_N_forward_0.0000mA_cut_out_flat_bit.CSV  \n",
       "\n",
       "[5200 rows x 4 columns]"
      ]
     },
     "execution_count": 3,
     "metadata": {},
     "output_type": "execute_result"
    }
   ],
   "source": [
    "datas = []\n",
    "for data in data_file:\n",
    "    df = pd.read_csv(data_path + data, skiprows = 15)\n",
    "    df['NAME'] = data\n",
    "    datas.append(df)\n",
    "normalizing = [0.2e-9, 2e-9, 0.2e-6, 20e-9, 20e-6, 2e-9, 2e-9, 0.2e-6, 0.2e-9, 0.2e-3]\n",
    "datas[-1]"
   ]
  },
  {
   "cell_type": "code",
   "execution_count": 4,
   "metadata": {},
   "outputs": [
    {
     "name": "stdout",
     "output_type": "stream",
     "text": [
      "boiling\n",
      "room\n",
      "room\n",
      "boiling\n",
      "N2\n",
      "room\n",
      "room\n",
      "ice\n",
      "ice\n"
     ]
    }
   ],
   "source": [
    "# cleaning\n",
    "clean = []\n",
    "for i in range(len(datas) - 1):\n",
    "    new_data = datas[i][['TIME','CH1','CH2', 'NAME']]\n",
    "    new_data = new_data.rename(columns={'CH1': 'V(V)', 'CH2': 'I(nA)'})\n",
    "    \n",
    "    if 'boiling' in data_file[i]:\n",
    "        print(\"boiling\")\n",
    "        new_data['T(K)'] = 373\n",
    "    elif 'room' in data_file[i]:\n",
    "        print(\"room\")\n",
    "        new_data['T(K)'] = 298\n",
    "    elif 'ice' in data_file[i]:\n",
    "        print(\"ice\")\n",
    "        new_data['T(K)'] = 278\n",
    "    elif 'liquid' in data_file[i]:\n",
    "        print(\"N2\")\n",
    "        new_data['T(K)'] = 77.4\n",
    "        \n",
    "    if 'zener' in data_file[i]:\n",
    "        new_data['type'] = 'zener'\n",
    "    else:\n",
    "        new_data['type'] = 'default'\n",
    "        \n",
    "    new_data['I(nA)'] = new_data['I(nA)']/2 * normalizing[i] * 1e9\n",
    "        \n",
    "    clean.append(new_data) "
   ]
  },
  {
   "cell_type": "code",
   "execution_count": 5,
   "metadata": {},
   "outputs": [
    {
     "name": "stdout",
     "output_type": "stream",
     "text": [
      "boiling_water_reverse_0000microA.CSV\n"
     ]
    },
    {
     "data": {
      "image/png": "[encoded data removed]",
      "text/plain": [
       "<Figure size 432x288 with 1 Axes>"
      ]
     },
     "metadata": {
      "needs_background": "light"
     },
     "output_type": "display_data"
    }
   ],
   "source": [
    "data = clean[0].loc[:1900].copy()\n",
    "data['V(V)'] = ndimage.gaussian_filter(data['V(V)'], sigma = 40)\n",
    "data['I(nA)'] = ndimage.gaussian_filter(data['I(nA)'], sigma = 40)\n",
    "plt.plot(data['V(V)']\n",
    "         , data['I(nA)'])\n",
    "print(data['NAME'][0])\n",
    "clean[0] = data.copy()"
   ]
  },
  {
   "cell_type": "code",
   "execution_count": 6,
   "metadata": {},
   "outputs": [
    {
     "name": "stdout",
     "output_type": "stream",
     "text": [
      "room_temp_reverse_0.000nA.CSV\n"
     ]
    },
    {
     "data": {
      "image/png": "[encoded data removed]",
      "text/plain": [
       "<Figure size 432x288 with 1 Axes>"
      ]
     },
     "metadata": {
      "needs_background": "light"
     },
     "output_type": "display_data"
    }
   ],
   "source": [
    "data = clean[1].loc[:1500].copy()\n",
    "data['V(V)'] = ndimage.gaussian_filter(data['V(V)'], sigma = 60)\n",
    "data['I(nA)'] = ndimage.gaussian_filter(data['I(nA)'], sigma = 60)\n",
    "plt.plot(data['V(V)']\n",
    "         , data['I(nA)'])\n",
    "print(data['NAME'][0])\n",
    "clean[1] = data.copy()"
   ]
  },
  {
   "cell_type": "code",
   "execution_count": 7,
   "metadata": {},
   "outputs": [
    {
     "name": "stdout",
     "output_type": "stream",
     "text": [
      "room_temp_forward_0.0000microA.CSV\n"
     ]
    },
    {
     "data": {
      "image/png": "[encoded data removed]",
      "text/plain": [
       "<Figure size 432x288 with 1 Axes>"
      ]
     },
     "metadata": {
      "needs_background": "light"
     },
     "output_type": "display_data"
    }
   ],
   "source": [
    "data = clean[2].loc[900:4800].copy()\n",
    "data['V(V)'] = ndimage.gaussian_filter(data['V(V)'], sigma = 60)\n",
    "data['I(nA)'] = ndimage.gaussian_filter(data['I(nA)'], sigma = 60)\n",
    "plt.plot(data['V(V)']\n",
    "         , data['I(nA)'])\n",
    "print(data['NAME'].values[0])\n",
    "clean[2] = data.copy()"
   ]
  },
  {
   "cell_type": "code",
   "execution_count": 8,
   "metadata": {},
   "outputs": [
    {
     "name": "stdout",
     "output_type": "stream",
     "text": [
      "boiling_water_forward_00nA.CSV\n"
     ]
    },
    {
     "data": {
      "image/png": "[encoded data removed]",
      "text/plain": [
       "<Figure size 432x288 with 1 Axes>"
      ]
     },
     "metadata": {
      "needs_background": "light"
     },
     "output_type": "display_data"
    }
   ],
   "source": [
    "data = clean[3].loc[2000:4000].copy()\n",
    "data['V(V)'] = ndimage.gaussian_filter(data['V(V)'], sigma = 60)\n",
    "data['I(nA)'] = ndimage.gaussian_filter(data['I(nA)'], sigma = 60)\n",
    "plt.plot(data['V(V)']\n",
    "         , data['I(nA)'])\n",
    "print(data['NAME'].values[0])\n",
    "clean[3] = data.copy()"
   ]
  },
  {
   "cell_type": "code",
   "execution_count": 9,
   "metadata": {},
   "outputs": [
    {
     "name": "stdout",
     "output_type": "stream",
     "text": [
      "liquidN2_FB.csv\n"
     ]
    },
    {
     "data": {
      "image/png": "[encoded data removed]",
      "text/plain": [
       "<Figure size 432x288 with 1 Axes>"
      ]
     },
     "metadata": {
      "needs_background": "light"
     },
     "output_type": "display_data"
    }
   ],
   "source": [
    "data = clean[4].loc[1000:4900].copy()\n",
    "data['V(V)'] = ndimage.gaussian_filter(data['V(V)'], sigma = 60)\n",
    "data['I(nA)'] = ndimage.gaussian_filter(data['I(nA)'], sigma = 60)\n",
    "plt.plot(data['V(V)']\n",
    "          ,data['I(nA)'] )\n",
    "print(data['NAME'].values[0])\n",
    "clean[4] = data.copy()"
   ]
  },
  {
   "cell_type": "code",
   "execution_count": 10,
   "metadata": {},
   "outputs": [
    {
     "name": "stdout",
     "output_type": "stream",
     "text": [
      "room_temp_zener_forward_000nA_0.5Amplitude_0.25Offset.CSV\n"
     ]
    },
    {
     "data": {
      "image/png": "[encoded data removed]",
      "text/plain": [
       "<Figure size 432x288 with 1 Axes>"
      ]
     },
     "metadata": {
      "needs_background": "light"
     },
     "output_type": "display_data"
    }
   ],
   "source": [
    "data = clean[5].loc[2000:4000].copy()\n",
    "data['V(V)'] = ndimage.gaussian_filter(data['V(V)'], sigma = 60)\n",
    "data['I(nA)'] = ndimage.gaussian_filter(data['I(nA)'], sigma = 60)\n",
    "plt.plot(data['V(V)']\n",
    "         , data['I(nA)'])\n",
    "print(data['NAME'].values[0])\n",
    "clean[5] = data.copy()"
   ]
  },
  {
   "cell_type": "code",
   "execution_count": 11,
   "metadata": {},
   "outputs": [
    {
     "name": "stdout",
     "output_type": "stream",
     "text": [
      "room_temp_zener_reverse_000nA_1.3Amplitude_-2Offset.CSV\n"
     ]
    },
    {
     "data": {
      "image/png": "[encoded data removed]",
      "text/plain": [
       "<Figure size 432x288 with 1 Axes>"
      ]
     },
     "metadata": {
      "needs_background": "light"
     },
     "output_type": "display_data"
    }
   ],
   "source": [
    "data = clean[6].loc[1800:3900].copy()\n",
    "data['V(V)'] = ndimage.gaussian_filter(data['V(V)'], sigma = 60)\n",
    "data['I(nA)'] = ndimage.gaussian_filter(data['I(nA)'], sigma = 60)\n",
    "plt.plot(data['V(V)']\n",
    "         , data['I(nA)'])\n",
    "print(data['NAME'].values[0])\n",
    "clean[6] = data.copy()"
   ]
  },
  {
   "cell_type": "code",
   "execution_count": 12,
   "metadata": {},
   "outputs": [
    {
     "name": "stdout",
     "output_type": "stream",
     "text": [
      "ice_water_forward_0000microA.CSV\n"
     ]
    },
    {
     "data": {
      "image/png": "[encoded data removed]",
      "text/plain": [
       "<Figure size 432x288 with 1 Axes>"
      ]
     },
     "metadata": {
      "needs_background": "light"
     },
     "output_type": "display_data"
    }
   ],
   "source": [
    "data = clean[7].loc[1400:3301].copy()\n",
    "data['V(V)'] = ndimage.gaussian_filter(data['V(V)'], sigma = 60)\n",
    "data['I(nA)'] = ndimage.gaussian_filter(data['I(nA)'], sigma = 60)\n",
    "plt.plot(data['V(V)']\n",
    "         , data['I(nA)'])\n",
    "print(data['NAME'].values[0])\n",
    "clean[7] = data.copy()"
   ]
  },
  {
   "cell_type": "code",
   "execution_count": 13,
   "metadata": {},
   "outputs": [
    {
     "name": "stdout",
     "output_type": "stream",
     "text": [
      "ice_water_reverse_0000nA.CSV\n"
     ]
    },
    {
     "data": {
      "image/png": "[encoded data removed]",
      "text/plain": [
       "<Figure size 432x288 with 1 Axes>"
      ]
     },
     "metadata": {
      "needs_background": "light"
     },
     "output_type": "display_data"
    }
   ],
   "source": [
    "data = clean[8].loc[1100:3201].copy()\n",
    "data['V(V)'] = ndimage.gaussian_filter(data['V(V)'], sigma = 70)\n",
    "data['I(nA)'] = ndimage.gaussian_filter(data['I(nA)'], sigma = 70)\n",
    "plt.plot(data['V(V)']\n",
    "         , data['I(nA)'])\n",
    "print(data['NAME'].values[0])\n",
    "clean[8] = data.copy()"
   ]
  },
  {
   "cell_type": "code",
   "execution_count": 14,
   "metadata": {},
   "outputs": [
    {
     "data": {
      "text/html": [
       "<div>\n",
       "<style scoped>\n",
       "    .dataframe tbody tr th:only-of-type {\n",
       "        vertical-align: middle;\n",
       "    }\n",
       "\n",
       "    .dataframe tbody tr th {\n",
       "        vertical-align: top;\n",
       "    }\n",
       "\n",
       "    .dataframe thead th {\n",
       "        text-align: right;\n",
       "    }\n",
       "</style>\n",
       "<table border=\"1\" class=\"dataframe\">\n",
       "  <thead>\n",
       "    <tr style=\"text-align: right;\">\n",
       "      <th></th>\n",
       "      <th>TIME</th>\n",
       "      <th>V(V)</th>\n",
       "      <th>I(nA)</th>\n",
       "      <th>NAME</th>\n",
       "      <th>T(K)</th>\n",
       "      <th>type</th>\n",
       "    </tr>\n",
       "  </thead>\n",
       "  <tbody>\n",
       "    <tr>\n",
       "      <th>0</th>\n",
       "      <td>-20.000</td>\n",
       "      <td>-0.088761</td>\n",
       "      <td>-0.028400</td>\n",
       "      <td>boiling_water_reverse_0000microA.CSV</td>\n",
       "      <td>373.0</td>\n",
       "      <td>default</td>\n",
       "    </tr>\n",
       "    <tr>\n",
       "      <th>1</th>\n",
       "      <td>-19.992</td>\n",
       "      <td>-0.088760</td>\n",
       "      <td>-0.028400</td>\n",
       "      <td>boiling_water_reverse_0000microA.CSV</td>\n",
       "      <td>373.0</td>\n",
       "      <td>default</td>\n",
       "    </tr>\n",
       "    <tr>\n",
       "      <th>2</th>\n",
       "      <td>-19.985</td>\n",
       "      <td>-0.088758</td>\n",
       "      <td>-0.028400</td>\n",
       "      <td>boiling_water_reverse_0000microA.CSV</td>\n",
       "      <td>373.0</td>\n",
       "      <td>default</td>\n",
       "    </tr>\n",
       "    <tr>\n",
       "      <th>3</th>\n",
       "      <td>-19.977</td>\n",
       "      <td>-0.088754</td>\n",
       "      <td>-0.028399</td>\n",
       "      <td>boiling_water_reverse_0000microA.CSV</td>\n",
       "      <td>373.0</td>\n",
       "      <td>default</td>\n",
       "    </tr>\n",
       "    <tr>\n",
       "      <th>4</th>\n",
       "      <td>-19.969</td>\n",
       "      <td>-0.088750</td>\n",
       "      <td>-0.028398</td>\n",
       "      <td>boiling_water_reverse_0000microA.CSV</td>\n",
       "      <td>373.0</td>\n",
       "      <td>default</td>\n",
       "    </tr>\n",
       "    <tr>\n",
       "      <th>...</th>\n",
       "      <td>...</td>\n",
       "      <td>...</td>\n",
       "      <td>...</td>\n",
       "      <td>...</td>\n",
       "      <td>...</td>\n",
       "      <td>...</td>\n",
       "    </tr>\n",
       "    <tr>\n",
       "      <th>3197</th>\n",
       "      <td>4.550</td>\n",
       "      <td>0.015365</td>\n",
       "      <td>0.012959</td>\n",
       "      <td>ice_water_reverse_0000nA.CSV</td>\n",
       "      <td>278.0</td>\n",
       "      <td>default</td>\n",
       "    </tr>\n",
       "    <tr>\n",
       "      <th>3198</th>\n",
       "      <td>4.560</td>\n",
       "      <td>0.015368</td>\n",
       "      <td>0.012963</td>\n",
       "      <td>ice_water_reverse_0000nA.CSV</td>\n",
       "      <td>278.0</td>\n",
       "      <td>default</td>\n",
       "    </tr>\n",
       "    <tr>\n",
       "      <th>3199</th>\n",
       "      <td>4.570</td>\n",
       "      <td>0.015370</td>\n",
       "      <td>0.012965</td>\n",
       "      <td>ice_water_reverse_0000nA.CSV</td>\n",
       "      <td>278.0</td>\n",
       "      <td>default</td>\n",
       "    </tr>\n",
       "    <tr>\n",
       "      <th>3200</th>\n",
       "      <td>4.580</td>\n",
       "      <td>0.015372</td>\n",
       "      <td>0.012967</td>\n",
       "      <td>ice_water_reverse_0000nA.CSV</td>\n",
       "      <td>278.0</td>\n",
       "      <td>default</td>\n",
       "    </tr>\n",
       "    <tr>\n",
       "      <th>3201</th>\n",
       "      <td>4.590</td>\n",
       "      <td>0.015372</td>\n",
       "      <td>0.012968</td>\n",
       "      <td>ice_water_reverse_0000nA.CSV</td>\n",
       "      <td>278.0</td>\n",
       "      <td>default</td>\n",
       "    </tr>\n",
       "  </tbody>\n",
       "</table>\n",
       "<p>21311 rows × 6 columns</p>\n",
       "</div>"
      ],
      "text/plain": [
       "        TIME      V(V)     I(nA)                                  NAME   T(K)  \\\n",
       "0    -20.000 -0.088761 -0.028400  boiling_water_reverse_0000microA.CSV  373.0   \n",
       "1    -19.992 -0.088760 -0.028400  boiling_water_reverse_0000microA.CSV  373.0   \n",
       "2    -19.985 -0.088758 -0.028400  boiling_water_reverse_0000microA.CSV  373.0   \n",
       "3    -19.977 -0.088754 -0.028399  boiling_water_reverse_0000microA.CSV  373.0   \n",
       "4    -19.969 -0.088750 -0.028398  boiling_water_reverse_0000microA.CSV  373.0   \n",
       "...      ...       ...       ...                                   ...    ...   \n",
       "3197   4.550  0.015365  0.012959          ice_water_reverse_0000nA.CSV  278.0   \n",
       "3198   4.560  0.015368  0.012963          ice_water_reverse_0000nA.CSV  278.0   \n",
       "3199   4.570  0.015370  0.012965          ice_water_reverse_0000nA.CSV  278.0   \n",
       "3200   4.580  0.015372  0.012967          ice_water_reverse_0000nA.CSV  278.0   \n",
       "3201   4.590  0.015372  0.012968          ice_water_reverse_0000nA.CSV  278.0   \n",
       "\n",
       "         type  \n",
       "0     default  \n",
       "1     default  \n",
       "2     default  \n",
       "3     default  \n",
       "4     default  \n",
       "...       ...  \n",
       "3197  default  \n",
       "3198  default  \n",
       "3199  default  \n",
       "3200  default  \n",
       "3201  default  \n",
       "\n",
       "[21311 rows x 6 columns]"
      ]
     },
     "execution_count": 14,
     "metadata": {},
     "output_type": "execute_result"
    }
   ],
   "source": [
    "concat_data = pd.concat(clean)\n",
    "concat_data"
   ]
  },
  {
   "cell_type": "code",
   "execution_count": 15,
   "metadata": {
    "scrolled": true
   },
   "outputs": [
    {
     "data": {
      "text/plain": [
       "[<matplotlib.lines.Line2D at 0x11e7ad1c0>]"
      ]
     },
     "execution_count": 15,
     "metadata": {},
     "output_type": "execute_result"
    },
    {
     "data": {
      "image/png": "[encoded data removed]",
      "text/plain": [
       "<Figure size 432x288 with 1 Axes>"
      ]
     },
     "metadata": {
      "needs_background": "light"
     },
     "output_type": "display_data"
    }
   ],
   "source": [
    "room = np.logical_and(concat_data['type'] == 'default', concat_data['T(K)'] == 298)\n",
    "room_df = concat_data[room]\n",
    "plt.plot(room_df['V(V)'], room_df['I(nA)'], '.')"
   ]
  },
  {
   "cell_type": "code",
   "execution_count": 16,
   "metadata": {},
   "outputs": [
    {
     "data": {
      "text/plain": [
       "[<matplotlib.lines.Line2D at 0x11e827220>]"
      ]
     },
     "execution_count": 16,
     "metadata": {},
     "output_type": "execute_result"
    },
    {
     "data": {
      "image/png": "[encoded data removed]",
      "text/plain": [
       "<Figure size 432x288 with 1 Axes>"
      ]
     },
     "metadata": {
      "needs_background": "light"
     },
     "output_type": "display_data"
    }
   ],
   "source": [
    "ice = np.logical_and(concat_data['type'] == 'default', concat_data['T(K)'] == 278)\n",
    "ice_df = concat_data[ice]\n",
    "plt.plot(ice_df['V(V)'], ice_df['I(nA)'], '.')\n"
   ]
  },
  {
   "cell_type": "code",
   "execution_count": 17,
   "metadata": {},
   "outputs": [
    {
     "data": {
      "text/plain": [
       "[<matplotlib.lines.Line2D at 0x11e90dac0>]"
      ]
     },
     "execution_count": 17,
     "metadata": {},
     "output_type": "execute_result"
    },
    {
     "data": {
      "image/png": "[encoded data removed]",
      "text/plain": [
       "<Figure size 432x288 with 1 Axes>"
      ]
     },
     "metadata": {
      "needs_background": "light"
     },
     "output_type": "display_data"
    }
   ],
   "source": [
    "boil = np.logical_and(concat_data['type'] == 'default', concat_data['T(K)'] == 373)\n",
    "boil_df = concat_data[boil]\n",
    "plt.plot(boil_df['V(V)'], boil_df['I(nA)'], '.')\n"
   ]
  },
  {
   "cell_type": "code",
   "execution_count": 18,
   "metadata": {},
   "outputs": [
    {
     "data": {
      "text/plain": [
       "[<matplotlib.lines.Line2D at 0x11e975580>]"
      ]
     },
     "execution_count": 18,
     "metadata": {},
     "output_type": "execute_result"
    },
    {
     "data": {
      "image/png": "[encoded data removed]",
      "text/plain": [
       "<Figure size 432x288 with 1 Axes>"
      ]
     },
     "metadata": {
      "needs_background": "light"
     },
     "output_type": "display_data"
    }
   ],
   "source": [
    "N2 = np.logical_and(concat_data['type'] == 'default', concat_data['T(K)'] == 77.4)\n",
    "N2_df = concat_data[N2]\n",
    "plt.plot(N2_df['V(V)'], N2_df['I(nA)'], '.')"
   ]
  },
  {
   "cell_type": "code",
   "execution_count": 19,
   "metadata": {},
   "outputs": [
    {
     "data": {
      "image/png": "[encoded data removed]",
      "text/plain": [
       "<Figure size 432x288 with 1 Axes>"
      ]
     },
     "metadata": {
      "needs_background": "light"
     },
     "output_type": "display_data"
    }
   ],
   "source": [
    "zener = np.logical_and(concat_data['type'] == 'zener', concat_data['T(K)'] == 298)\n",
    "zener_df = concat_data[zener]\n",
    "plt.plot(zener_df['V(V)'], zener_df['I(nA)'], '.', markersize = 2)\n",
    "plt.title('Zener Diode Characteristic Curve at Different Temperatures')\n",
    "plt.xlabel('V(V)')\n",
    "plt.ylabel('I(nA)')\n",
    "plt.savefig(fig_path + 'zener.png', dpi = 300)"
   ]
  },
  {
   "cell_type": "code",
   "execution_count": 20,
   "metadata": {},
   "outputs": [
    {
     "data": {
      "text/plain": [
       "Text(0, 0.5, 'I(nA)')"
      ]
     },
     "execution_count": 20,
     "metadata": {},
     "output_type": "execute_result"
    },
    {
     "data": {
      "image/png": "[encoded data removed]",
      "text/plain": [
       "<Figure size 432x288 with 1 Axes>"
      ]
     },
     "metadata": {
      "needs_background": "light"
     },
     "output_type": "display_data"
    }
   ],
   "source": [
    "plt.plot(room_df['V(V)'], room_df['I(nA)'],'.', markersize = 2, label = '298K')\n",
    "plt.plot(ice_df['V(V)'], ice_df['I(nA)'], '.', markersize = 2, label = '278K')\n",
    "plt.plot(boil_df['V(V)'], boil_df['I(nA)'],'.', markersize = 2, label = '373K')\n",
    "plt.plot(N2_df['V(V)'], N2_df['I(nA)'],'.', markersize = 2, label = '77K')\n",
    "plt.legend()\n",
    "plt.title('Diode Characteristic Curve at Different Temperatures')\n",
    "plt.xlabel('V(V)')\n",
    "plt.ylabel('I(nA)')\n"
   ]
  },
  {
   "cell_type": "code",
   "execution_count": 21,
   "metadata": {},
   "outputs": [
    {
     "data": {
      "image/png": "[encoded data removed]",
      "text/plain": [
       "<Figure size 432x288 with 1 Axes>"
      ]
     },
     "metadata": {
      "needs_background": "light"
     },
     "output_type": "display_data"
    }
   ],
   "source": [
    "plt.plot(room_df['V(V)'], room_df['I(nA)'],'.', markersize = 2, label = '298K')\n",
    "plt.plot(ice_df['V(V)'], ice_df['I(nA)'], '.', markersize = 2, label = '278K')\n",
    "plt.plot(boil_df['V(V)'], boil_df['I(nA)'],'.', markersize = 2, label = '373K')\n",
    "plt.legend()\n",
    "plt.title('Diode Characteristic Curve at Different Temperatures')\n",
    "plt.xlabel('V(V)')\n",
    "plt.ylabel('I(nA)')\n",
    "plt.savefig(fig_path + 'Temp.png', dpi = 300)\n"
   ]
  },
  {
   "cell_type": "code",
   "execution_count": 22,
   "metadata": {},
   "outputs": [],
   "source": [
    "# save processed data\n",
    "room_df.to_csv(data_path + 'cleaned/'+'room.csv')\n",
    "boil_df.to_csv(data_path + 'cleaned/'+'boil.csv')\n",
    "ice_df.to_csv(data_path + 'cleaned/'+'ice.csv')\n",
    "N2_df.to_csv(data_path + 'cleaned/'+'N2.csv')\n",
    "zener_df.to_csv(data_path + 'cleaned/'+'zenor.csv')\n",
    "\n"
   ]
  },
  {
   "cell_type": "code",
   "execution_count": null,
   "metadata": {},
   "outputs": [],
   "source": []
  },
  {
   "cell_type": "code",
   "execution_count": null,
   "metadata": {},
   "outputs": [],
   "source": []
  },
  {
   "cell_type": "code",
   "execution_count": 23,
   "metadata": {},
   "outputs": [
    {
     "ename": "NameError",
     "evalue": "name 'I2' is not defined",
     "output_type": "error",
     "traceback": [
      "\u001b[0;31m---------------------------------------------------------------------------\u001b[0m",
      "\u001b[0;31mNameError\u001b[0m                                 Traceback (most recent call last)",
      "\u001b[0;32m<ipython-input-23-a4bc05e848c3>\u001b[0m in \u001b[0;36m<module>\u001b[0;34m\u001b[0m\n\u001b[0;32m----> 1\u001b[0;31m \u001b[0mmodel2\u001b[0m \u001b[0;34m=\u001b[0m \u001b[0mModel\u001b[0m\u001b[0;34m(\u001b[0m\u001b[0mI2\u001b[0m\u001b[0;34m)\u001b[0m\u001b[0;34m\u001b[0m\u001b[0;34m\u001b[0m\u001b[0m\n\u001b[0m\u001b[1;32m      2\u001b[0m \u001b[0mmyodr2\u001b[0m \u001b[0;34m=\u001b[0m \u001b[0mODR\u001b[0m\u001b[0;34m(\u001b[0m\u001b[0mdata\u001b[0m\u001b[0;34m,\u001b[0m \u001b[0mmodel2\u001b[0m\u001b[0;34m,\u001b[0m \u001b[0mbeta0\u001b[0m \u001b[0;34m=\u001b[0m \u001b[0;34m[\u001b[0m\u001b[0;36m1.0\u001b[0m\u001b[0;34m,\u001b[0m \u001b[0;36m1.0\u001b[0m\u001b[0;34m]\u001b[0m\u001b[0;34m,\u001b[0m \u001b[0mmaxit\u001b[0m \u001b[0;34m=\u001b[0m \u001b[0;36m1000\u001b[0m\u001b[0;34m)\u001b[0m\u001b[0;34m\u001b[0m\u001b[0;34m\u001b[0m\u001b[0m\n\u001b[1;32m      3\u001b[0m \u001b[0mmyoutput2\u001b[0m \u001b[0;34m=\u001b[0m \u001b[0mmyodr2\u001b[0m\u001b[0;34m.\u001b[0m\u001b[0mrun\u001b[0m\u001b[0;34m(\u001b[0m\u001b[0;34m)\u001b[0m\u001b[0;34m\u001b[0m\u001b[0;34m\u001b[0m\u001b[0m\n\u001b[1;32m      4\u001b[0m \u001b[0mmyoutput2\u001b[0m\u001b[0;34m.\u001b[0m\u001b[0mpprint\u001b[0m\u001b[0;34m(\u001b[0m\u001b[0;34m)\u001b[0m\u001b[0;34m\u001b[0m\u001b[0;34m\u001b[0m\u001b[0m\n",
      "\u001b[0;31mNameError\u001b[0m: name 'I2' is not defined"
     ]
    }
   ],
   "source": [
    "model2 = Model(I2)\n",
    "myodr2 = ODR(data, model2, beta0 = [1.0, 1.0], maxit = 1000)\n",
    "myoutput2 = myodr2.run()\n",
    "myoutput2.pprint()"
   ]
  },
  {
   "cell_type": "code",
   "execution_count": null,
   "metadata": {},
   "outputs": [],
   "source": [
    "concat_default = concat_data[concat_data['type'] == 'default'].copy()\n",
    "concat_default['I_fit'] = I(myoutput.beta, concat_default[['V(V)', 'T(K)']].values.T)\n",
    "concat_default['I_fit_2'] = I2(myoutput2.beta, concat_default[['V(V)', 'T(K)']].values.T)\n",
    "concat_default"
   ]
  },
  {
   "cell_type": "code",
   "execution_count": null,
   "metadata": {},
   "outputs": [],
   "source": [
    "room = concat_default['T(K)'] == 298\n",
    "plt.plot(concat_default[room]['V(V)'], concat_default[room]['I(nA)'], '.', label = 'experiment')\n",
    "plt.plot(concat_default[room]['V(V)'], concat_default[room]['I_fit'], '.', label = 'fit1')\n",
    "plt.plot(concat_default[room]['V(V)'], concat_default[room]['I_fit_2'], '.', label = 'fit2')\n",
    "plt.legend()"
   ]
  },
  {
   "cell_type": "code",
   "execution_count": null,
   "metadata": {},
   "outputs": [],
   "source": [
    "room = concat_default['T(K)'] == 278\n",
    "plt.plot(concat_default[room]['V(V)'], concat_default[room]['I(nA)'], '.', label = 'experiment')\n",
    "plt.plot(concat_default[room]['V(V)'], concat_default[room]['I_fit'], '.', label = 'fit1')\n",
    "plt.plot(concat_default[room]['V(V)'], concat_default[room]['I_fit_2'], '.', label = 'fit2')\n",
    "plt.legend()"
   ]
  },
  {
   "cell_type": "code",
   "execution_count": null,
   "metadata": {},
   "outputs": [],
   "source": [
    "room = concat_default['T(K)'] == 373\n",
    "plt.plot(concat_default[room]['V(V)'], concat_default[room]['I(nA)'], '.', label = 'experiment')\n",
    "plt.plot(concat_default[room]['V(V)'], concat_default[room]['I_fit'], '.', label = 'fit1')\n",
    "plt.plot(concat_default[room]['V(V)'], concat_default[room]['I_fit_2'], '.', label = 'fit2')\n",
    "plt.legend()"
   ]
  },
  {
   "cell_type": "code",
   "execution_count": null,
   "metadata": {},
   "outputs": [],
   "source": [
    "room = concat_default['T(K)'] == 77.4\n",
    "plt.plot(concat_default[room]['V(V)'], concat_default[room]['I(nA)'], '.', label = 'experiment')\n",
    "plt.plot(concat_default[room]['V(V)'], concat_default[room]['I_fit'], '.', label = 'fit1')\n",
    "plt.plot(concat_default[room]['V(V)'], concat_default[room]['I_fit_2'], '.', label = 'fit2')\n",
    "plt.legend()"
   ]
  },
  {
   "cell_type": "code",
   "execution_count": null,
   "metadata": {},
   "outputs": [],
   "source": []
  }
 ],
 "metadata": {
  "kernelspec": {
   "display_name": "myenv",
   "language": "python",
   "name": "myenv"
  },
  "language_info": {
   "codemirror_mode": {
    "name": "ipython",
    "version": 3
   },
   "file_extension": ".py",
   "mimetype": "text/x-python",
   "name": "python",
   "nbconvert_exporter": "python",
   "pygments_lexer": "ipython3",
   "version": "3.8.1"
  }
 },
 "nbformat": 4,
 "nbformat_minor": 4
}
