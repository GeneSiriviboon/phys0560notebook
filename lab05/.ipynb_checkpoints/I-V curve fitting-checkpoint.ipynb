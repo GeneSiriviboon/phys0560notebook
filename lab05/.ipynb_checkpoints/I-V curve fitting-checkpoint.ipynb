{
 "cells": [
  {
   "cell_type": "code",
   "execution_count": 1,
   "metadata": {},
   "outputs": [
    {
     "data": {
      "text/html": [
       "<div>\n",
       "<style scoped>\n",
       "    .dataframe tbody tr th:only-of-type {\n",
       "        vertical-align: middle;\n",
       "    }\n",
       "\n",
       "    .dataframe tbody tr th {\n",
       "        vertical-align: top;\n",
       "    }\n",
       "\n",
       "    .dataframe thead th {\n",
       "        text-align: right;\n",
       "    }\n",
       "</style>\n",
       "<table border=\"1\" class=\"dataframe\">\n",
       "  <thead>\n",
       "    <tr style=\"text-align: right;\">\n",
       "      <th></th>\n",
       "      <th>Unnamed: 0</th>\n",
       "      <th>TIME</th>\n",
       "      <th>V(V)</th>\n",
       "      <th>I(nA)</th>\n",
       "      <th>NAME</th>\n",
       "      <th>T(K)</th>\n",
       "      <th>type</th>\n",
       "    </tr>\n",
       "  </thead>\n",
       "  <tbody>\n",
       "    <tr>\n",
       "      <th>0</th>\n",
       "      <td>0</td>\n",
       "      <td>-20.000</td>\n",
       "      <td>-0.068255</td>\n",
       "      <td>-0.129299</td>\n",
       "      <td>room_temp_reverse_0.000nA.CSV</td>\n",
       "      <td>298.0</td>\n",
       "      <td>default</td>\n",
       "    </tr>\n",
       "    <tr>\n",
       "      <th>1</th>\n",
       "      <td>1</td>\n",
       "      <td>-19.992</td>\n",
       "      <td>-0.068255</td>\n",
       "      <td>-0.129298</td>\n",
       "      <td>room_temp_reverse_0.000nA.CSV</td>\n",
       "      <td>298.0</td>\n",
       "      <td>default</td>\n",
       "    </tr>\n",
       "    <tr>\n",
       "      <th>2</th>\n",
       "      <td>2</td>\n",
       "      <td>-19.985</td>\n",
       "      <td>-0.068253</td>\n",
       "      <td>-0.129297</td>\n",
       "      <td>room_temp_reverse_0.000nA.CSV</td>\n",
       "      <td>298.0</td>\n",
       "      <td>default</td>\n",
       "    </tr>\n",
       "    <tr>\n",
       "      <th>3</th>\n",
       "      <td>3</td>\n",
       "      <td>-19.977</td>\n",
       "      <td>-0.068251</td>\n",
       "      <td>-0.129296</td>\n",
       "      <td>room_temp_reverse_0.000nA.CSV</td>\n",
       "      <td>298.0</td>\n",
       "      <td>default</td>\n",
       "    </tr>\n",
       "    <tr>\n",
       "      <th>4</th>\n",
       "      <td>4</td>\n",
       "      <td>-19.969</td>\n",
       "      <td>-0.068247</td>\n",
       "      <td>-0.129294</td>\n",
       "      <td>room_temp_reverse_0.000nA.CSV</td>\n",
       "      <td>298.0</td>\n",
       "      <td>default</td>\n",
       "    </tr>\n",
       "    <tr>\n",
       "      <th>...</th>\n",
       "      <td>...</td>\n",
       "      <td>...</td>\n",
       "      <td>...</td>\n",
       "      <td>...</td>\n",
       "      <td>...</td>\n",
       "      <td>...</td>\n",
       "      <td>...</td>\n",
       "    </tr>\n",
       "    <tr>\n",
       "      <th>5397</th>\n",
       "      <td>4796</td>\n",
       "      <td>8.418</td>\n",
       "      <td>0.215984</td>\n",
       "      <td>35.654088</td>\n",
       "      <td>room_temp_forward_0.0000microA.CSV</td>\n",
       "      <td>298.0</td>\n",
       "      <td>default</td>\n",
       "    </tr>\n",
       "    <tr>\n",
       "      <th>5398</th>\n",
       "      <td>4797</td>\n",
       "      <td>8.422</td>\n",
       "      <td>0.215986</td>\n",
       "      <td>35.655912</td>\n",
       "      <td>room_temp_forward_0.0000microA.CSV</td>\n",
       "      <td>298.0</td>\n",
       "      <td>default</td>\n",
       "    </tr>\n",
       "    <tr>\n",
       "      <th>5399</th>\n",
       "      <td>4798</td>\n",
       "      <td>8.425</td>\n",
       "      <td>0.215988</td>\n",
       "      <td>35.657282</td>\n",
       "      <td>room_temp_forward_0.0000microA.CSV</td>\n",
       "      <td>298.0</td>\n",
       "      <td>default</td>\n",
       "    </tr>\n",
       "    <tr>\n",
       "      <th>5400</th>\n",
       "      <td>4799</td>\n",
       "      <td>8.429</td>\n",
       "      <td>0.215990</td>\n",
       "      <td>35.658195</td>\n",
       "      <td>room_temp_forward_0.0000microA.CSV</td>\n",
       "      <td>298.0</td>\n",
       "      <td>default</td>\n",
       "    </tr>\n",
       "    <tr>\n",
       "      <th>5401</th>\n",
       "      <td>4800</td>\n",
       "      <td>8.433</td>\n",
       "      <td>0.215990</td>\n",
       "      <td>35.658651</td>\n",
       "      <td>room_temp_forward_0.0000microA.CSV</td>\n",
       "      <td>298.0</td>\n",
       "      <td>default</td>\n",
       "    </tr>\n",
       "  </tbody>\n",
       "</table>\n",
       "<p>5402 rows × 7 columns</p>\n",
       "</div>"
      ],
      "text/plain": [
       "      Unnamed: 0    TIME      V(V)      I(nA)  \\\n",
       "0              0 -20.000 -0.068255  -0.129299   \n",
       "1              1 -19.992 -0.068255  -0.129298   \n",
       "2              2 -19.985 -0.068253  -0.129297   \n",
       "3              3 -19.977 -0.068251  -0.129296   \n",
       "4              4 -19.969 -0.068247  -0.129294   \n",
       "...          ...     ...       ...        ...   \n",
       "5397        4796   8.418  0.215984  35.654088   \n",
       "5398        4797   8.422  0.215986  35.655912   \n",
       "5399        4798   8.425  0.215988  35.657282   \n",
       "5400        4799   8.429  0.215990  35.658195   \n",
       "5401        4800   8.433  0.215990  35.658651   \n",
       "\n",
       "                                    NAME   T(K)     type  \n",
       "0          room_temp_reverse_0.000nA.CSV  298.0  default  \n",
       "1          room_temp_reverse_0.000nA.CSV  298.0  default  \n",
       "2          room_temp_reverse_0.000nA.CSV  298.0  default  \n",
       "3          room_temp_reverse_0.000nA.CSV  298.0  default  \n",
       "4          room_temp_reverse_0.000nA.CSV  298.0  default  \n",
       "...                                  ...    ...      ...  \n",
       "5397  room_temp_forward_0.0000microA.CSV  298.0  default  \n",
       "5398  room_temp_forward_0.0000microA.CSV  298.0  default  \n",
       "5399  room_temp_forward_0.0000microA.CSV  298.0  default  \n",
       "5400  room_temp_forward_0.0000microA.CSV  298.0  default  \n",
       "5401  room_temp_forward_0.0000microA.CSV  298.0  default  \n",
       "\n",
       "[5402 rows x 7 columns]"
      ]
     },
     "execution_count": 1,
     "metadata": {},
     "output_type": "execute_result"
    }
   ],
   "source": [
    "import numpy as np\n",
    "import matplotlib.pyplot as plt\n",
    "import pandas as pd\n",
    "import os\n",
    "from scipy import interpolate, signal, ndimage\n",
    "from scipy import stats\n",
    "from os import listdir\n",
    "from os.path import isfile, join\n",
    "from scipy.odr import Model, RealData, ODR\n",
    "data_path = './data/cleaned/'\n",
    "fig_path = './fig/'\n",
    "\n",
    "# load csv\n",
    "room = pd.read_csv(data_path + 'room.csv')\n",
    "boil = pd.read_csv(data_path + 'boil.csv')\n",
    "ice = pd.read_csv(data_path + 'ice.csv')\n",
    "N2 = pd.read_csv(data_path + 'N2.csv')\n",
    "room"
   ]
  },
  {
   "cell_type": "code",
   "execution_count": 2,
   "metadata": {},
   "outputs": [
    {
     "data": {
      "text/plain": [
       "[<matplotlib.lines.Line2D at 0x116b77340>]"
      ]
     },
     "execution_count": 2,
     "metadata": {},
     "output_type": "execute_result"
    },
    {
     "data": {
      "image/png": "[encoded data removed]",
      "text/plain": [
       "<Figure size 432x288 with 1 Axes>"
      ]
     },
     "metadata": {
      "needs_background": "light"
     },
     "output_type": "display_data"
    }
   ],
   "source": [
    "plt.plot(room['V(V)'], room['I(nA)'])"
   ]
  },
  {
   "cell_type": "code",
   "execution_count": 3,
   "metadata": {},
   "outputs": [
    {
     "data": {
      "text/plain": [
       "[<matplotlib.lines.Line2D at 0x1174f6f10>]"
      ]
     },
     "execution_count": 3,
     "metadata": {},
     "output_type": "execute_result"
    },
    {
     "data": {
      "image/png": "[encoded data removed]",
      "text/plain": [
       "<Figure size 432x288 with 1 Axes>"
      ]
     },
     "metadata": {
      "needs_background": "light"
     },
     "output_type": "display_data"
    }
   ],
   "source": [
    "plt.plot(boil['V(V)'], boil['I(nA)'])"
   ]
  },
  {
   "cell_type": "code",
   "execution_count": 4,
   "metadata": {},
   "outputs": [
    {
     "data": {
      "text/plain": [
       "[<matplotlib.lines.Line2D at 0x117553c40>]"
      ]
     },
     "execution_count": 4,
     "metadata": {},
     "output_type": "execute_result"
    },
    {
     "data": {
      "image/png": "[encoded data removed]",
      "text/plain": [
       "<Figure size 432x288 with 1 Axes>"
      ]
     },
     "metadata": {
      "needs_background": "light"
     },
     "output_type": "display_data"
    }
   ],
   "source": [
    "plt.plot(ice['V(V)'], ice['I(nA)'], '.')"
   ]
  },
  {
   "cell_type": "code",
   "execution_count": 5,
   "metadata": {},
   "outputs": [
    {
     "data": {
      "text/plain": [
       "[<matplotlib.lines.Line2D at 0x1176ca400>]"
      ]
     },
     "execution_count": 5,
     "metadata": {},
     "output_type": "execute_result"
    },
    {
     "data": {
      "image/png": "[encoded data removed]",
      "text/plain": [
       "<Figure size 432x288 with 1 Axes>"
      ]
     },
     "metadata": {
      "needs_background": "light"
     },
     "output_type": "display_data"
    }
   ],
   "source": [
    "plt.plot(N2['V(V)'], N2['I(nA)'])"
   ]
  },
  {
   "cell_type": "code",
   "execution_count": 6,
   "metadata": {},
   "outputs": [],
   "source": [
    "# complicated model\n",
    "def I(params, V_T):\n",
    "    k = 1.38e-23\n",
    "    q = 1.6e-19\n",
    "    V = V_T[0]\n",
    "    T = V_T[1]\n",
    "    B_rec, B_diff, E_g= params\n",
    "    I_rec = B_rec * T**1.5 * np.exp(-E_g/(2 * k * T)) * (np.exp(q * V / (2 * k * T)) - 1)\n",
    "    I_diff = B_diff * T**3 * np.exp(-E_g/(k * T)) * (np.exp(q * V / (k * T)) - 1)\n",
    "    return I_rec + I_diff\n",
    "# simpler model\n",
    "def I2(params, V_T):\n",
    "    k = 1.38e-23\n",
    "    q = 1.6e-19\n",
    "    V = V_T[0]\n",
    "    T = V_T[1]\n",
    "    I0, eta = params\n",
    "    return I0*(np.exp(q * V / (eta * k * T)) - 1)"
   ]
  },
  {
   "cell_type": "code",
   "execution_count": null,
   "metadata": {},
   "outputs": [],
   "source": []
  },
  {
   "cell_type": "code",
   "execution_count": 7,
   "metadata": {},
   "outputs": [
    {
     "name": "stdout",
     "output_type": "stream",
     "text": [
      "Beta: [7.40033651e-05 8.07968249e-10 3.08025168e-21]\n",
      "Beta Std Error: [6.88801129e-07 1.59622707e-11 0.00000000e+00]\n",
      "Beta Covariance: [[ 3.11184954e-09 -4.84676554e-14  0.00000000e+00]\n",
      " [-4.84676554e-14  1.67116847e-18  0.00000000e+00]\n",
      " [ 0.00000000e+00  0.00000000e+00  0.00000000e+00]]\n",
      "Residual Variance: 0.00015246463229930742\n",
      "Inverse Condition #: 1.4299572255628277e-05\n",
      "Reason(s) for Halting:\n",
      "  Problem is not full rank at solution\n",
      "  Sum of squares convergence\n",
      "---------------------------------------------------\n",
      "Beta: [0.17612106 1.4892395 ]\n",
      "Beta Std Error: [0.00081373 0.00241078]\n",
      "Beta Covariance: [[0.00938446 0.02204933]\n",
      " [0.02204933 0.08236813]]\n",
      "Residual Variance: 7.05596752198697e-05\n",
      "Inverse Condition #: 0.18366333705819932\n",
      "Reason(s) for Halting:\n",
      "  Sum of squares convergence\n"
     ]
    },
    {
     "data": {
      "text/plain": [
       "[<matplotlib.lines.Line2D at 0x117855850>]"
      ]
     },
     "execution_count": 7,
     "metadata": {},
     "output_type": "execute_result"
    },
    {
     "data": {
      "image/png": "[encoded data removed]",
      "text/plain": [
       "<Figure size 432x288 with 1 Axes>"
      ]
     },
     "metadata": {
      "needs_background": "light"
     },
     "output_type": "display_data"
    }
   ],
   "source": [
    "model1 = Model(I)\n",
    "model2 = Model(I2)\n",
    "x = room[['V(V)', 'T(K)']].values.T\n",
    "y = room['I(nA)'].values\n",
    "data = RealData(x, y)\n",
    "myodr = ODR(data, model1, beta0 = [1, 1.2, 1e-21], maxit = 1000)\n",
    "myoutput = myodr.run()\n",
    "myoutput.pprint()\n",
    "print('---------------------------------------------------')\n",
    "model2 = Model(I2)\n",
    "myodr2 = ODR(data, model2, beta0 = [1.0, 1.0], maxit = 1000)\n",
    "myoutput2 = myodr2.run()\n",
    "myoutput2.pprint()\n",
    "\n",
    "I_model1 = I(myoutput.beta, x)\n",
    "I_model2 = I2(myoutput2.beta, x)\n",
    "\n",
    "plt.plot(room['V(V)'] ,y, 'b')\n",
    "plt.plot(room['V(V)'] ,I_model1, 'r')\n",
    "plt.plot(room['V(V)'] ,I_model2, 'g')"
   ]
  },
  {
   "cell_type": "code",
   "execution_count": 8,
   "metadata": {},
   "outputs": [
    {
     "name": "stdout",
     "output_type": "stream",
     "text": [
      "Beta: [1.22362063e-04 4.50754991e-09 2.82010944e-20]\n",
      "Beta Std Error: [7.8264715e-07 1.2255596e-10 0.0000000e+00]\n",
      "Beta Covariance: [[ 8.21180819e-09 -8.74597904e-13  0.00000000e+00]\n",
      " [-8.74597904e-13  2.01361137e-16  0.00000000e+00]\n",
      " [ 0.00000000e+00  0.00000000e+00  0.00000000e+00]]\n",
      "Residual Variance: 7.459216616637933e-05\n",
      "Inverse Condition #: 9.566220581759689e-05\n",
      "Reason(s) for Halting:\n",
      "  Problem is not full rank at solution\n",
      "  Sum of squares convergence\n",
      "---------------------------------------------------\n",
      "Beta: [0.04645058 1.69087251]\n",
      "Beta Std Error: [0.00033187 0.00411734]\n",
      "Beta Covariance: [[0.00224221 0.02481701]\n",
      " [0.02481701 0.34511566]]\n",
      "Residual Variance: 4.912107652873529e-05\n",
      "Inverse Condition #: 0.035085480006416966\n",
      "Reason(s) for Halting:\n",
      "  Sum of squares convergence\n"
     ]
    },
    {
     "data": {
      "text/plain": [
       "[<matplotlib.lines.Line2D at 0x117b94f40>]"
      ]
     },
     "execution_count": 8,
     "metadata": {},
     "output_type": "execute_result"
    },
    {
     "data": {
      "image/png": "[encoded data removed]",
      "text/plain": [
       "<Figure size 432x288 with 1 Axes>"
      ]
     },
     "metadata": {
      "needs_background": "light"
     },
     "output_type": "display_data"
    }
   ],
   "source": [
    "model1 = Model(I)\n",
    "model2 = Model(I2)\n",
    "x = boil[['V(V)', 'T(K)']].values.T\n",
    "y = boil['I(nA)'].values\n",
    "data = RealData(x, y)\n",
    "myodr = ODR(data, model1, beta0 = [1, 1.2, 1e-21], maxit = 1000)\n",
    "myoutput = myodr.run()\n",
    "myoutput.pprint()\n",
    "print('---------------------------------------------------')\n",
    "model2 = Model(I2)\n",
    "myodr2 = ODR(data, model2, beta0 = [1.0, 1.0], maxit = 1000)\n",
    "myoutput2 = myodr2.run()\n",
    "myoutput2.pprint()\n",
    "\n",
    "I_model1 = I(myoutput.beta, x)\n",
    "I_model2 = I2(myoutput2.beta, x)\n",
    "\n",
    "plt.plot(boil['V(V)'] ,y, 'b')\n",
    "plt.plot(boil['V(V)'] ,I_model1, 'r')\n",
    "plt.plot(boil['V(V)'] ,I_model2, 'g')"
   ]
  },
  {
   "cell_type": "code",
   "execution_count": 9,
   "metadata": {},
   "outputs": [
    {
     "name": "stdout",
     "output_type": "stream",
     "text": [
      "Beta: [6.48265636e-05 1.99671310e-09 1.65667599e-20]\n",
      "Beta Std Error: [5.28066983e-07 4.17706949e-11 0.00000000e+00]\n",
      "Beta Covariance: [[ 3.27108998e-09 -1.29098305e-13  0.00000000e+00]\n",
      " [-1.29098305e-13  2.04671731e-17  0.00000000e+00]\n",
      " [ 0.00000000e+00  0.00000000e+00  0.00000000e+00]]\n",
      "Residual Variance: 8.524826288057783e-05\n",
      "Inverse Condition #: 5.712812043744999e-05\n",
      "Reason(s) for Halting:\n",
      "  Problem is not full rank at solution\n",
      "  Sum of squares convergence\n",
      "---------------------------------------------------\n",
      "Beta: [0.02640353 1.60053329]\n",
      "Beta Std Error: [0.00016174 0.0024552 ]\n",
      "Beta Covariance: [[0.00098172 0.01277593]\n",
      " [0.01277593 0.22622761]]\n",
      "Residual Variance: 2.6645828445382705e-05\n",
      "Inverse Condition #: 0.033098697896409165\n",
      "Reason(s) for Halting:\n",
      "  Sum of squares convergence\n"
     ]
    },
    {
     "data": {
      "text/plain": [
       "[<matplotlib.lines.Line2D at 0x116c128e0>]"
      ]
     },
     "execution_count": 9,
     "metadata": {},
     "output_type": "execute_result"
    },
    {
     "data": {
      "image/png": "[encoded data removed]",
      "text/plain": [
       "<Figure size 432x288 with 1 Axes>"
      ]
     },
     "metadata": {
      "needs_background": "light"
     },
     "output_type": "display_data"
    }
   ],
   "source": [
    "model1 = Model(I)\n",
    "model2 = Model(I2)\n",
    "x = ice[['V(V)', 'T(K)']].values.T\n",
    "y = ice['I(nA)'].values\n",
    "data = RealData(x, y)\n",
    "myodr = ODR(data, model1, beta0 = [1, 1.2, 1e-21], maxit = 1000)\n",
    "myoutput = myodr.run()\n",
    "myoutput.pprint()\n",
    "print('---------------------------------------------------')\n",
    "model2 = Model(I2)\n",
    "myodr2 = ODR(data, model2, beta0 = [1.0, 1.0], maxit = 1000)\n",
    "myoutput2 = myodr2.run()\n",
    "myoutput2.pprint()\n",
    "\n",
    "I_model1 = I(myoutput.beta, x)\n",
    "I_model2 = I2(myoutput2.beta, x)\n",
    "\n",
    "plt.plot(ice['V(V)'] ,y, 'b.')\n",
    "plt.plot(ice['V(V)'] ,I_model1, 'r.')\n",
    "plt.plot(ice['V(V)'] ,I_model2, 'g.')"
   ]
  },
  {
   "cell_type": "code",
   "execution_count": 10,
   "metadata": {},
   "outputs": [
    {
     "name": "stdout",
     "output_type": "stream",
     "text": [
      "Beta: [ 1.00000000e+00 -1.30659288e-22  4.24125272e-20]\n",
      "Beta Std Error: [0.00000000e+00 1.27085587e-14 0.00000000e+00]\n",
      "Beta Covariance: [[0.00000000e+00 0.00000000e+00 0.00000000e+00]\n",
      " [0.00000000e+00 1.70904699e-42 0.00000000e+00]\n",
      " [0.00000000e+00 0.00000000e+00 0.00000000e+00]]\n",
      "Residual Variance: 94501477568363.7\n",
      "Inverse Condition #: 1.0000000000000002\n",
      "Reason(s) for Halting:\n",
      "  Problem is not full rank at solution\n",
      "  Parameter convergence\n",
      "---------------------------------------------------\n",
      "Beta: [3.72640649e-62 1.00000000e+00]\n",
      "Beta Std Error: [9.26522415e-59 0.00000000e+00]\n",
      "Beta Covariance: [[2.75987169e-122 0.00000000e+000]\n",
      " [0.00000000e+000 0.00000000e+000]]\n",
      "Residual Variance: 311044.81784601766\n",
      "Inverse Condition #: 1.0\n",
      "Reason(s) for Halting:\n",
      "  Problem is not full rank at solution\n",
      "  Sum of squares convergence\n"
     ]
    },
    {
     "data": {
      "text/plain": [
       "[<matplotlib.lines.Line2D at 0x116de0fa0>]"
      ]
     },
     "execution_count": 10,
     "metadata": {},
     "output_type": "execute_result"
    },
    {
     "data": {
      "image/png": "[encoded data removed]",
      "text/plain": [
       "<Figure size 432x288 with 1 Axes>"
      ]
     },
     "metadata": {
      "needs_background": "light"
     },
     "output_type": "display_data"
    }
   ],
   "source": [
    "model1 = Model(I)\n",
    "model2 = Model(I2)\n",
    "x = N2[['V(V)', 'T(K)']].values.T\n",
    "y = N2['I(nA)'].values\n",
    "data = RealData(x, y)\n",
    "myodr = ODR(data, model1, beta0 = [1, 1.2, 1e-21], maxit = 1000)\n",
    "myoutput = myodr.run()\n",
    "myoutput.pprint()\n",
    "print('---------------------------------------------------')\n",
    "model2 = Model(I2)\n",
    "myodr2 = ODR(data, model2, beta0 = [1.0, 1.0], maxit = 1000)\n",
    "myoutput2 = myodr2.run()\n",
    "myoutput2.pprint()\n",
    "\n",
    "I_model1 = I(myoutput.beta, x)\n",
    "I_model2 = I2(myoutput2.beta, x)\n",
    "\n",
    "plt.plot(N2['V(V)'] ,y, 'b.')\n",
    "# plt.plot(N2['V(V)'] ,I_model1, 'r.')\n",
    "plt.plot(N2['V(V)'] ,I_model2, 'g.')"
   ]
  },
  {
   "cell_type": "code",
   "execution_count": 23,
   "metadata": {},
   "outputs": [
    {
     "name": "stdout",
     "output_type": "stream",
     "text": [
      "Beta: [ 1.19189094e-05 -9.52539741e-13 -1.14194908e-20]\n",
      "Beta Std Error: [1.30453313e-07 3.64285606e-14 0.00000000e+00]\n",
      "Beta Covariance: [[ 8.89044770e-12 -1.63050779e-18  0.00000000e+00]\n",
      " [-1.63050779e-18  6.93262045e-25  0.00000000e+00]\n",
      " [ 0.00000000e+00  0.00000000e+00  0.00000000e+00]]\n",
      "Residual Variance: 0.0019141968525296911\n",
      "Inverse Condition #: 1.7548100665813462e-07\n",
      "Reason(s) for Halting:\n",
      "  Problem is not full rank at solution\n",
      "  Sum of squares convergence\n",
      "---------------------------------------------------\n",
      "Beta: [0.05702326 1.35695919]\n",
      "Beta Std Error: [0.00081018 0.00602948]\n",
      "Beta Covariance: [[0.00056708 0.00326081]\n",
      " [0.00326081 0.03140786]]\n",
      "Residual Variance: 0.0011574996844562122\n",
      "Inverse Condition #: 0.08275683137112573\n",
      "Reason(s) for Halting:\n",
      "  Sum of squares convergence\n"
     ]
    }
   ],
   "source": [
    "concat_data = pd.concat([room, boil, ice])\n",
    "model1 = Model(I)\n",
    "model2 = Model(I2)\n",
    "x = concat_data[['V(V)', 'T(K)']].values.T\n",
    "y = concat_data['I(nA)'].values\n",
    "data = RealData(x, y)\n",
    "myodr = ODR(data, model1, beta0 = [1, 1.2, 1e-21], maxit = 1000)\n",
    "myoutput = myodr.run()\n",
    "myoutput.pprint()\n",
    "print('---------------------------------------------------')\n",
    "model2 = Model(I2)\n",
    "myodr2 = ODR(data, model2, beta0 = [1.0, 1.0], maxit = 1000)\n",
    "myoutput2 = myodr2.run()\n",
    "myoutput2.pprint()\n",
    "\n",
    "I_model1 = I(myoutput.beta, x)\n",
    "I_model2 = I2(myoutput2.beta, x)"
   ]
  },
  {
   "cell_type": "code",
   "execution_count": 25,
   "metadata": {},
   "outputs": [
    {
     "data": {
      "text/plain": [
       "[<matplotlib.lines.Line2D at 0x11860d220>]"
      ]
     },
     "execution_count": 25,
     "metadata": {},
     "output_type": "execute_result"
    },
    {
     "data": {
      "image/png": "[encoded data removed]",
      "text/plain": [
       "<Figure size 432x288 with 1 Axes>"
      ]
     },
     "metadata": {
      "needs_background": "light"
     },
     "output_type": "display_data"
    }
   ],
   "source": [
    "plt.plot(room['V(V)'] ,room['I(nA)'], 'b.', label = 'experiment')\n",
    "plt.plot(room['V(V)'] ,I(myoutput.beta, room[['V(V)', 'T(K)']].values.T ), 'r.',  label = 'model1')\n",
    "plt.plot(room['V(V)'] ,I2(myoutput2.beta, room[['V(V)', 'T(K)']].values.T ), 'g.', label = 'model2')"
   ]
  },
  {
   "cell_type": "code",
   "execution_count": 26,
   "metadata": {},
   "outputs": [
    {
     "data": {
      "text/plain": [
       "[<matplotlib.lines.Line2D at 0x117fc7610>]"
      ]
     },
     "execution_count": 26,
     "metadata": {},
     "output_type": "execute_result"
    },
    {
     "data": {
      "image/png": "[encoded data removed]",
      "text/plain": [
       "<Figure size 432x288 with 1 Axes>"
      ]
     },
     "metadata": {
      "needs_background": "light"
     },
     "output_type": "display_data"
    }
   ],
   "source": [
    "plt.plot(ice['V(V)'] ,ice['I(nA)'], 'b.')\n",
    "plt.plot(ice['V(V)'] ,I(myoutput.beta, ice[['V(V)', 'T(K)']].values.T ), 'r.')\n",
    "plt.plot(ice['V(V)'] ,I2(myoutput2.beta, ice[['V(V)', 'T(K)']].values.T ), 'g.')"
   ]
  },
  {
   "cell_type": "code",
   "execution_count": 27,
   "metadata": {},
   "outputs": [
    {
     "data": {
      "text/plain": [
       "[<matplotlib.lines.Line2D at 0x117f6c220>]"
      ]
     },
     "execution_count": 27,
     "metadata": {},
     "output_type": "execute_result"
    },
    {
     "data": {
      "image/png": "[encoded data removed]",
      "text/plain": [
       "<Figure size 432x288 with 1 Axes>"
      ]
     },
     "metadata": {
      "needs_background": "light"
     },
     "output_type": "display_data"
    }
   ],
   "source": [
    "plt.plot(boil['V(V)'] ,boil['I(nA)'], 'b.')\n",
    "plt.plot(boil['V(V)'] ,I(myoutput.beta, boil[['V(V)', 'T(K)']].values.T ), 'r.')\n",
    "plt.plot(boil['V(V)'] ,I2(myoutput2.beta, boil[['V(V)', 'T(K)']].values.T ), 'g.')"
   ]
  },
  {
   "cell_type": "code",
   "execution_count": null,
   "metadata": {},
   "outputs": [],
   "source": []
  }
 ],
 "metadata": {
  "kernelspec": {
   "display_name": "myenv",
   "language": "python",
   "name": "myenv"
  },
  "language_info": {
   "codemirror_mode": {
    "name": "ipython",
    "version": 3
   },
   "file_extension": ".py",
   "mimetype": "text/x-python",
   "name": "python",
   "nbconvert_exporter": "python",
   "pygments_lexer": "ipython3",
   "version": "3.8.1"
  }
 },
 "nbformat": 4,
 "nbformat_minor": 4
}
